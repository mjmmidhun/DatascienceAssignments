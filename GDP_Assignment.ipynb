{
 "cells": [
  {
   "cell_type": "markdown",
   "metadata": {},
   "source": [
    "<img src=\"http://cfs22.simplicdn.net/ice9/new_logo.svgz \"/>\n",
    "\n",
    "# Assignment 01: Evaluate the GDP Dataset\n",
    "\n",
    "*The comments/sections provided are your cues to perform the assignment. You don't need to limit yourself to the number of rows/cells provided. You can add additional rows in each section to add more lines of code.*\n",
    "\n",
    "*If at any point in time you need help on solving this assignment, view our demo video to understand the different steps of the code.*\n",
    "\n",
    "**Happy coding!**\n",
    "\n",
    "* * *"
   ]
  },
  {
   "cell_type": "markdown",
   "metadata": {},
   "source": [
    "#### 1: View and add the dataset"
   ]
  },
  {
   "cell_type": "code",
   "execution_count": 1,
   "metadata": {},
   "outputs": [],
   "source": [
    "#Import required library\n",
    "import numpy as np"
   ]
  },
  {
   "cell_type": "code",
   "execution_count": 36,
   "metadata": {},
   "outputs": [],
   "source": [
    "#Manually add the dataset\n",
    "countries = ['Algeria','Angola','Argentina','Australia','Austria','Bahamas','Bangladesh','Belarus','Belgium','Bhutan','Brazil','Bulgaria','Cambodia','Cameroon','Chile','China','Colombia','Cyprus','Denmark','El Salvador','Estonia','Ethiopia','Fiji','Finland','France','Georgia','Ghana','Grenada','Guinea','Haiti','Honduras','Hungary','India','Indonesia','Ireland','Italy','Japan','Kenya','South Korea','Liberia','Malaysia','Mexico','Morocco','Nepal','New Zealand','Norway','Pakistan','Peru','Qatar','Russia','Singapore','South Africa','Spain','Sweden','Switzerland','Thailand','United Arab Emirates','United Kingdom','United States','Uruguay','Venezuela','Vietnam','Zimbabwe']\n",
    "gdp = [2255.225482,629.9553062,11601.63022,25306.82494,27266.40335,19466.99052,588.3691778,2890.345675,24733.62696,1445.760002,4803.398244,2618.876037,590.4521124,665.7982328,7122.938458,2639.54156,3362.4656,15378.16704,30860.12808,2579.115607,6525.541272,229.6769525,2242.689259,27570.4852,23016.84778,1334.646773,402.6953275,6047.200797,394.1156638,385.5793827,1414.072488,5745.981529,837.7464011,1206.991065,27715.52837,18937.24998,39578.07441,478.2194906,16684.21278,279.2204061,5345.213415,6288.25324,1908.304416,274.8728621,14646.42094,40034.85063,672.1547506,3359.517402,36152.66676,3054.727742,33529.83052,3825.093781,15428.32098,33630.24604,39170.41371,2699.123242,21058.43643,28272.40661,37691.02733,9581.05659,5671.912202,757.4009286,347.7456605]\n",
    "np_countries = np.array(countries)\n",
    "np_gdp = np.array(gdp)"
   ]
  },
  {
   "cell_type": "code",
   "execution_count": 28,
   "metadata": {},
   "outputs": [
    {
     "data": {
      "text/plain": [
       "((63,), (63,))"
      ]
     },
     "execution_count": 28,
     "metadata": {},
     "output_type": "execute_result"
    }
   ],
   "source": [
    "np_countries.shape, np_gdp.shape"
   ]
  },
  {
   "cell_type": "markdown",
   "metadata": {
    "collapsed": true
   },
   "source": [
    "#### 2: Find and print the name of the country with the highest GDP"
   ]
  },
  {
   "cell_type": "code",
   "execution_count": 29,
   "metadata": {},
   "outputs": [
    {
     "data": {
      "text/plain": [
       "40034.85063"
      ]
     },
     "execution_count": 29,
     "metadata": {},
     "output_type": "execute_result"
    }
   ],
   "source": [
    "#Use the argmax() method to find the highest GDP\n",
    "np_gdp.max()"
   ]
  },
  {
   "cell_type": "code",
   "execution_count": 30,
   "metadata": {},
   "outputs": [
    {
     "data": {
      "text/plain": [
       "45"
      ]
     },
     "execution_count": 30,
     "metadata": {},
     "output_type": "execute_result"
    }
   ],
   "source": [
    "np_gdp.argmax()"
   ]
  },
  {
   "cell_type": "code",
   "execution_count": 31,
   "metadata": {},
   "outputs": [
    {
     "name": "stdout",
     "output_type": "stream",
     "text": [
      "Norway\n"
     ]
    }
   ],
   "source": [
    "#Print the name of the country\n",
    "print(np_countries[45])"
   ]
  },
  {
   "cell_type": "markdown",
   "metadata": {},
   "source": [
    "#### 3: Find and print the name of the country with the lowest GDP"
   ]
  },
  {
   "cell_type": "code",
   "execution_count": 32,
   "metadata": {},
   "outputs": [
    {
     "data": {
      "text/plain": [
       "229.6769525"
      ]
     },
     "execution_count": 32,
     "metadata": {},
     "output_type": "execute_result"
    }
   ],
   "source": [
    "np_gdp.min()"
   ]
  },
  {
   "cell_type": "code",
   "execution_count": 33,
   "metadata": {},
   "outputs": [
    {
     "data": {
      "text/plain": [
       "21"
      ]
     },
     "execution_count": 33,
     "metadata": {},
     "output_type": "execute_result"
    }
   ],
   "source": [
    "#Use the argmin() method to find the lowest GDP\n",
    "np_gdp.argmin()"
   ]
  },
  {
   "cell_type": "code",
   "execution_count": 34,
   "metadata": {},
   "outputs": [
    {
     "name": "stdout",
     "output_type": "stream",
     "text": [
      "Ethiopia\n"
     ]
    }
   ],
   "source": [
    "#Print the name of the country\n",
    "print(np_countries[21])"
   ]
  },
  {
   "cell_type": "markdown",
   "metadata": {},
   "source": [
    "#### 4: Print out text ('evaluating country') and input value ('country name') iteratively"
   ]
  },
  {
   "cell_type": "code",
   "execution_count": 41,
   "metadata": {},
   "outputs": [
    {
     "name": "stdout",
     "output_type": "stream",
     "text": [
      "Algeria 2255.225482\n",
      "Angola 629.9553062\n",
      "Argentina 11601.63022\n",
      "Australia 25306.82494\n",
      "Austria 27266.40335\n",
      "Bahamas 19466.99052\n",
      "Bangladesh 588.3691778\n",
      "Belarus 2890.345675\n",
      "Belgium 24733.62696\n",
      "Bhutan 1445.760002\n",
      "Brazil 4803.398244\n",
      "Bulgaria 2618.876037\n",
      "Cambodia 590.4521124\n",
      "Cameroon 665.7982328\n",
      "Chile 7122.938458\n",
      "China 2639.54156\n",
      "Colombia 3362.4656\n",
      "Cyprus 15378.16704\n",
      "Denmark 30860.12808\n",
      "El Salvador 2579.115607\n",
      "Estonia 6525.541272\n",
      "Ethiopia 229.6769525\n",
      "Fiji 2242.689259\n",
      "Finland 27570.4852\n",
      "France 23016.84778\n",
      "Georgia 1334.646773\n",
      "Ghana 402.6953275\n",
      "Grenada 6047.200797\n",
      "Guinea 394.1156638\n",
      "Haiti 385.5793827\n",
      "Honduras 1414.072488\n",
      "Hungary 5745.981529\n",
      "India 837.7464011\n",
      "Indonesia 1206.991065\n",
      "Ireland 27715.52837\n",
      "Italy 18937.24998\n",
      "Japan 39578.07441\n",
      "Kenya 478.2194906\n",
      "South Korea 16684.21278\n",
      "Liberia 279.2204061\n",
      "Malaysia 5345.213415\n",
      "Mexico 6288.25324\n",
      "Morocco 1908.304416\n",
      "Nepal 274.8728621\n",
      "New Zealand 14646.42094\n",
      "Norway 40034.85063\n",
      "Pakistan 672.1547506\n",
      "Peru 3359.517402\n",
      "Qatar 36152.66676\n",
      "Russia 3054.727742\n",
      "Singapore 33529.83052\n",
      "South Africa 3825.093781\n",
      "Spain 15428.32098\n",
      "Sweden 33630.24604\n",
      "Switzerland 39170.41371\n",
      "Thailand 2699.123242\n",
      "United Arab Emirates 21058.43643\n",
      "United Kingdom 28272.40661\n",
      "United States 37691.02733\n",
      "Uruguay 9581.05659\n",
      "Venezuela 5671.912202\n",
      "Vietnam 757.4009286\n",
      "Zimbabwe 347.7456605\n"
     ]
    }
   ],
   "source": [
    "#Use a for loop to print the required output\n",
    "for val1,val2 in zip(np_countries,np_gdp):\n",
    "    print(val1,val2)"
   ]
  },
  {
   "cell_type": "markdown",
   "metadata": {},
   "source": [
    "#### 5: Print out the entire list of the countries with their GDPs"
   ]
  },
  {
   "cell_type": "code",
   "execution_count": 42,
   "metadata": {},
   "outputs": [
    {
     "name": "stdout",
     "output_type": "stream",
     "text": [
      "{'Algeria': 2255.225482, 'Angola': 629.9553062, 'Argentina': 11601.63022, 'Australia': 25306.82494, 'Austria': 27266.40335, 'Bahamas': 19466.99052, 'Bangladesh': 588.3691778, 'Belarus': 2890.345675, 'Belgium': 24733.62696, 'Bhutan': 1445.760002, 'Brazil': 4803.398244, 'Bulgaria': 2618.876037, 'Cambodia': 590.4521124, 'Cameroon': 665.7982328, 'Chile': 7122.938458, 'China': 2639.54156, 'Colombia': 3362.4656, 'Cyprus': 15378.16704, 'Denmark': 30860.12808, 'El Salvador': 2579.115607, 'Estonia': 6525.541272, 'Ethiopia': 229.6769525, 'Fiji': 2242.689259, 'Finland': 27570.4852, 'France': 23016.84778, 'Georgia': 1334.646773, 'Ghana': 402.6953275, 'Grenada': 6047.200797, 'Guinea': 394.1156638, 'Haiti': 385.5793827, 'Honduras': 1414.072488, 'Hungary': 5745.981529, 'India': 837.7464011, 'Indonesia': 1206.991065, 'Ireland': 27715.52837, 'Italy': 18937.24998, 'Japan': 39578.07441, 'Kenya': 478.2194906, 'South Korea': 16684.21278, 'Liberia': 279.2204061, 'Malaysia': 5345.213415, 'Mexico': 6288.25324, 'Morocco': 1908.304416, 'Nepal': 274.8728621, 'New Zealand': 14646.42094, 'Norway': 40034.85063, 'Pakistan': 672.1547506, 'Peru': 3359.517402, 'Qatar': 36152.66676, 'Russia': 3054.727742, 'Singapore': 33529.83052, 'South Africa': 3825.093781, 'Spain': 15428.32098, 'Sweden': 33630.24604, 'Switzerland': 39170.41371, 'Thailand': 2699.123242, 'United Arab Emirates': 21058.43643, 'United Kingdom': 28272.40661, 'United States': 37691.02733, 'Uruguay': 9581.05659, 'Venezuela': 5671.912202, 'Vietnam': 757.4009286, 'Zimbabwe': 347.7456605}\n"
     ]
    }
   ],
   "source": [
    "#Use a for loop to print the required list\n",
    "countries_gdp = dict(zip(countries, gdp))\n",
    "print(countries_gdp)"
   ]
  },
  {
   "cell_type": "markdown",
   "metadata": {},
   "source": [
    "#### 6: Print the following:\n",
    "1. Highest GPD value\n",
    "2. Lowest GDP value\n",
    "3. Mean GDP value\n",
    "4. Standardized GDP value\n",
    "5. Sum of all the GDPs"
   ]
  },
  {
   "cell_type": "code",
   "execution_count": 48,
   "metadata": {},
   "outputs": [
    {
     "name": "stdout",
     "output_type": "stream",
     "text": [
      "Highest GDP = 40034.85063\n"
     ]
    }
   ],
   "source": [
    "print (\"Highest GDP =\",np_gdp.max())"
   ]
  },
  {
   "cell_type": "code",
   "execution_count": 49,
   "metadata": {},
   "outputs": [
    {
     "name": "stdout",
     "output_type": "stream",
     "text": [
      "Lowest GDP = 229.6769525\n"
     ]
    }
   ],
   "source": [
    "print (\"Lowest GDP =\",np_gdp.min())"
   ]
  },
  {
   "cell_type": "code",
   "execution_count": 50,
   "metadata": {},
   "outputs": [
    {
     "name": "stdout",
     "output_type": "stream",
     "text": [
      "Mean GDP = 11289.409271639683\n"
     ]
    }
   ],
   "source": [
    "print (\"Mean GDP =\",np_gdp.mean())"
   ]
  },
  {
   "cell_type": "code",
   "execution_count": 51,
   "metadata": {},
   "outputs": [
    {
     "name": "stdout",
     "output_type": "stream",
     "text": [
      "Standardized GDP value = 12743.828910617945\n"
     ]
    }
   ],
   "source": [
    "print (\"Standardized GDP value =\",np_gdp.std())"
   ]
  },
  {
   "cell_type": "code",
   "execution_count": 52,
   "metadata": {},
   "outputs": [
    {
     "name": "stdout",
     "output_type": "stream",
     "text": [
      "Sum of all the GDPs = 711232.7841133\n"
     ]
    }
   ],
   "source": [
    "print (\"Sum of all the GDPs =\",np.sum(np_gdp))"
   ]
  },
  {
   "cell_type": "code",
   "execution_count": null,
   "metadata": {},
   "outputs": [],
   "source": []
  }
 ],
 "metadata": {
  "kernelspec": {
   "display_name": "Python 3",
   "language": "python",
   "name": "python3"
  },
  "language_info": {
   "codemirror_mode": {
    "name": "ipython",
    "version": 3
   },
   "file_extension": ".py",
   "mimetype": "text/x-python",
   "name": "python",
   "nbconvert_exporter": "python",
   "pygments_lexer": "ipython3",
   "version": "3.8.8"
  }
 },
 "nbformat": 4,
 "nbformat_minor": 1
}
